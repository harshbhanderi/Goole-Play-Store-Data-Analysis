{
  "nbformat": 4,
  "nbformat_minor": 0,
  "metadata": {
    "kernelspec": {
      "display_name": "Python 3",
      "language": "python",
      "name": "python3"
    },
    "language_info": {
      "codemirror_mode": {
        "name": "ipython",
        "version": 3
      },
      "file_extension": ".py",
      "mimetype": "text/x-python",
      "name": "python",
      "nbconvert_exporter": "python",
      "pygments_lexer": "ipython3",
      "version": "3.7.3"
    },
    "colab": {
      "name": "Project1_HarshBhanderi.ipynb",
      "provenance": [],
      "include_colab_link": true
    }
  },
  "cells": [
    {
      "cell_type": "markdown",
      "metadata": {
        "id": "view-in-github",
        "colab_type": "text"
      },
      "source": [
        "<a href=\"https://colab.research.google.com/github/harshbhanderi/Goole-Play-Store-Data-Analysis/blob/master/Project1_HarshBhanderi.ipynb\" target=\"_parent\"><img src=\"https://colab.research.google.com/assets/colab-badge.svg\" alt=\"Open In Colab\"/></a>"
      ]
    },
    {
      "cell_type": "markdown",
      "metadata": {
        "id": "sIsxjLj_iH_I",
        "colab_type": "text"
      },
      "source": [
        "# Analysis of Google playstore data 2016\n",
        "\n",
        "#### -- Harsh Bhanderi"
      ]
    },
    {
      "cell_type": "markdown",
      "metadata": {
        "id": "D4mGj40kiH_J",
        "colab_type": "text"
      },
      "source": [
        "#### Answer I want to find from dataset is whether people have same tendency of downloading different types of applications over free and paid app versions."
      ]
    },
    {
      "cell_type": "markdown",
      "metadata": {
        "id": "B3hE8UrpiH_K",
        "colab_type": "text"
      },
      "source": [
        "## Importing Data Into Pandas Data Frame"
      ]
    },
    {
      "cell_type": "code",
      "metadata": {
        "id": "pLfQWKaUiH_K",
        "colab_type": "code",
        "outputId": "1e811a81-4696-4ea5-aeea-39054151a193",
        "colab": {}
      },
      "source": [
        "import os\n",
        "os.getcwd()"
      ],
      "execution_count": 0,
      "outputs": [
        {
          "output_type": "execute_result",
          "data": {
            "text/plain": [
              "'C:\\\\Users\\\\Harsh Bhanderi\\\\Downloads\\\\data601\\\\Project 1'"
            ]
          },
          "metadata": {
            "tags": []
          },
          "execution_count": 1
        }
      ]
    },
    {
      "cell_type": "code",
      "metadata": {
        "id": "ov8CR1zBiH_P",
        "colab_type": "code",
        "outputId": "0a56d115-d1e7-4603-97a8-28f2643e8b8c",
        "colab": {}
      },
      "source": [
        "import pandas as pd\n",
        "pd.__version__"
      ],
      "execution_count": 0,
      "outputs": [
        {
          "output_type": "execute_result",
          "data": {
            "text/plain": [
              "'0.24.2'"
            ]
          },
          "metadata": {
            "tags": []
          },
          "execution_count": 2
        }
      ]
    },
    {
      "cell_type": "markdown",
      "metadata": {
        "id": "Ohi9xe9oiH_V",
        "colab_type": "text"
      },
      "source": [
        "### Importing data into pandas dataframe df"
      ]
    },
    {
      "cell_type": "code",
      "metadata": {
        "id": "qAH4xHciiH_W",
        "colab_type": "code",
        "colab": {}
      },
      "source": [
        "df = pd.read_csv('googleplaystore.csv')"
      ],
      "execution_count": 0,
      "outputs": []
    },
    {
      "cell_type": "markdown",
      "metadata": {
        "id": "SwHIot2wiH_a",
        "colab_type": "text"
      },
      "source": [
        "#### Sample data"
      ]
    },
    {
      "cell_type": "code",
      "metadata": {
        "id": "-ru2VREtiH_b",
        "colab_type": "code",
        "outputId": "8fe0d6dc-d194-4d7f-ee66-a25623694770",
        "colab": {}
      },
      "source": [
        "df.sample(10)"
      ],
      "execution_count": 0,
      "outputs": [
        {
          "output_type": "execute_result",
          "data": {
            "text/html": [
              "<div>\n",
              "<style scoped>\n",
              "    .dataframe tbody tr th:only-of-type {\n",
              "        vertical-align: middle;\n",
              "    }\n",
              "\n",
              "    .dataframe tbody tr th {\n",
              "        vertical-align: top;\n",
              "    }\n",
              "\n",
              "    .dataframe thead th {\n",
              "        text-align: right;\n",
              "    }\n",
              "</style>\n",
              "<table border=\"1\" class=\"dataframe\">\n",
              "  <thead>\n",
              "    <tr style=\"text-align: right;\">\n",
              "      <th></th>\n",
              "      <th>App</th>\n",
              "      <th>Category</th>\n",
              "      <th>Rating</th>\n",
              "      <th>Reviews</th>\n",
              "      <th>Size</th>\n",
              "      <th>Installs</th>\n",
              "      <th>Type</th>\n",
              "      <th>Price</th>\n",
              "      <th>Content Rating</th>\n",
              "      <th>Genres</th>\n",
              "      <th>Last Updated</th>\n",
              "      <th>Current Ver</th>\n",
              "      <th>Android Ver</th>\n",
              "    </tr>\n",
              "  </thead>\n",
              "  <tbody>\n",
              "    <tr>\n",
              "      <th>4597</th>\n",
              "      <td>T-Mobile DIGITS</td>\n",
              "      <td>COMMUNICATION</td>\n",
              "      <td>3.0</td>\n",
              "      <td>1820</td>\n",
              "      <td>33M</td>\n",
              "      <td>100,000+</td>\n",
              "      <td>Free</td>\n",
              "      <td>0</td>\n",
              "      <td>Everyone</td>\n",
              "      <td>Communication</td>\n",
              "      <td>15-Feb-18</td>\n",
              "      <td>1.1.50</td>\n",
              "      <td>4.4 and up</td>\n",
              "    </tr>\n",
              "    <tr>\n",
              "      <th>4916</th>\n",
              "      <td>AC Remote for Haier - NOW FREE</td>\n",
              "      <td>TOOLS</td>\n",
              "      <td>3.9</td>\n",
              "      <td>336</td>\n",
              "      <td>27M</td>\n",
              "      <td>50,000+</td>\n",
              "      <td>Free</td>\n",
              "      <td>0</td>\n",
              "      <td>Everyone</td>\n",
              "      <td>Tools</td>\n",
              "      <td>30-Jul-18</td>\n",
              "      <td>6.1.7</td>\n",
              "      <td>4.2 and up</td>\n",
              "    </tr>\n",
              "    <tr>\n",
              "      <th>10157</th>\n",
              "      <td>EZ LED</td>\n",
              "      <td>TOOLS</td>\n",
              "      <td>2.2</td>\n",
              "      <td>19</td>\n",
              "      <td>2.1M</td>\n",
              "      <td>1,000+</td>\n",
              "      <td>Free</td>\n",
              "      <td>0</td>\n",
              "      <td>Everyone</td>\n",
              "      <td>Tools</td>\n",
              "      <td>5-Sep-17</td>\n",
              "      <td>1.1</td>\n",
              "      <td>4.3 and up</td>\n",
              "    </tr>\n",
              "    <tr>\n",
              "      <th>990</th>\n",
              "      <td>Laugh Out Loud by Kevin Hart</td>\n",
              "      <td>ENTERTAINMENT</td>\n",
              "      <td>4.3</td>\n",
              "      <td>1856</td>\n",
              "      <td>20M</td>\n",
              "      <td>100,000+</td>\n",
              "      <td>Free</td>\n",
              "      <td>0</td>\n",
              "      <td>Teen</td>\n",
              "      <td>Entertainment</td>\n",
              "      <td>1-Aug-18</td>\n",
              "      <td>1.6.1</td>\n",
              "      <td>6.0 and up</td>\n",
              "    </tr>\n",
              "    <tr>\n",
              "      <th>10399</th>\n",
              "      <td>Familial Hypercholesterolaemia</td>\n",
              "      <td>MEDICAL</td>\n",
              "      <td>NaN</td>\n",
              "      <td>0</td>\n",
              "      <td>34M</td>\n",
              "      <td>10+</td>\n",
              "      <td>Free</td>\n",
              "      <td>0</td>\n",
              "      <td>Everyone</td>\n",
              "      <td>Medical</td>\n",
              "      <td>5-Jul-18</td>\n",
              "      <td>2.0.1</td>\n",
              "      <td>4.1 and up</td>\n",
              "    </tr>\n",
              "    <tr>\n",
              "      <th>6370</th>\n",
              "      <td>Keyboard Theme Dusk BK Purple</td>\n",
              "      <td>PERSONALIZATION</td>\n",
              "      <td>4.5</td>\n",
              "      <td>248</td>\n",
              "      <td>2.8M</td>\n",
              "      <td>10,000+</td>\n",
              "      <td>Free</td>\n",
              "      <td>0</td>\n",
              "      <td>Mature 17+</td>\n",
              "      <td>Personalization</td>\n",
              "      <td>23-May-16</td>\n",
              "      <td>9</td>\n",
              "      <td>4.0.3 and up</td>\n",
              "    </tr>\n",
              "    <tr>\n",
              "      <th>6143</th>\n",
              "      <td>Zdravei.BG</td>\n",
              "      <td>SOCIAL</td>\n",
              "      <td>NaN</td>\n",
              "      <td>6</td>\n",
              "      <td>6.1M</td>\n",
              "      <td>1,000+</td>\n",
              "      <td>Free</td>\n",
              "      <td>0</td>\n",
              "      <td>Mature 17+</td>\n",
              "      <td>Social</td>\n",
              "      <td>8-Jan-18</td>\n",
              "      <td>3.7.17</td>\n",
              "      <td>4.1 and up</td>\n",
              "    </tr>\n",
              "    <tr>\n",
              "      <th>9617</th>\n",
              "      <td>Squadron - Bullet Hell Shooter</td>\n",
              "      <td>GAME</td>\n",
              "      <td>4.2</td>\n",
              "      <td>177542</td>\n",
              "      <td>40M</td>\n",
              "      <td>10,000,000+</td>\n",
              "      <td>Free</td>\n",
              "      <td>0</td>\n",
              "      <td>Everyone</td>\n",
              "      <td>Arcade</td>\n",
              "      <td>2-May-16</td>\n",
              "      <td>1.0.7</td>\n",
              "      <td>2.3 and up</td>\n",
              "    </tr>\n",
              "    <tr>\n",
              "      <th>2268</th>\n",
              "      <td>Medical terms (OFFLINE)</td>\n",
              "      <td>MEDICAL</td>\n",
              "      <td>4.4</td>\n",
              "      <td>104</td>\n",
              "      <td>38M</td>\n",
              "      <td>1,000+</td>\n",
              "      <td>Paid</td>\n",
              "      <td>$2.99</td>\n",
              "      <td>Teen</td>\n",
              "      <td>Medical</td>\n",
              "      <td>24-May-18</td>\n",
              "      <td>3.2.0</td>\n",
              "      <td>4.1 and up</td>\n",
              "    </tr>\n",
              "    <tr>\n",
              "      <th>5892</th>\n",
              "      <td>First Credit Union (AZ) Mobile</td>\n",
              "      <td>FINANCE</td>\n",
              "      <td>3.5</td>\n",
              "      <td>100</td>\n",
              "      <td>11M</td>\n",
              "      <td>10,000+</td>\n",
              "      <td>Free</td>\n",
              "      <td>0</td>\n",
              "      <td>Everyone</td>\n",
              "      <td>Finance</td>\n",
              "      <td>13-Jun-17</td>\n",
              "      <td>3.0.830</td>\n",
              "      <td>4.0 and up</td>\n",
              "    </tr>\n",
              "  </tbody>\n",
              "</table>\n",
              "</div>"
            ],
            "text/plain": [
              "                                  App         Category  Rating Reviews  Size  \\\n",
              "4597                  T-Mobile DIGITS    COMMUNICATION     3.0    1820   33M   \n",
              "4916   AC Remote for Haier - NOW FREE            TOOLS     3.9     336   27M   \n",
              "10157                          EZ LED            TOOLS     2.2      19  2.1M   \n",
              "990      Laugh Out Loud by Kevin Hart    ENTERTAINMENT     4.3    1856   20M   \n",
              "10399  Familial Hypercholesterolaemia          MEDICAL     NaN       0   34M   \n",
              "6370    Keyboard Theme Dusk BK Purple  PERSONALIZATION     4.5     248  2.8M   \n",
              "6143                       Zdravei.BG           SOCIAL     NaN       6  6.1M   \n",
              "9617   Squadron - Bullet Hell Shooter             GAME     4.2  177542   40M   \n",
              "2268          Medical terms (OFFLINE)          MEDICAL     4.4     104   38M   \n",
              "5892   First Credit Union (AZ) Mobile          FINANCE     3.5     100   11M   \n",
              "\n",
              "          Installs  Type   Price Content Rating           Genres Last Updated  \\\n",
              "4597      100,000+  Free       0       Everyone    Communication    15-Feb-18   \n",
              "4916       50,000+  Free       0       Everyone            Tools    30-Jul-18   \n",
              "10157       1,000+  Free       0       Everyone            Tools     5-Sep-17   \n",
              "990       100,000+  Free       0           Teen    Entertainment     1-Aug-18   \n",
              "10399          10+  Free       0       Everyone          Medical     5-Jul-18   \n",
              "6370       10,000+  Free       0     Mature 17+  Personalization    23-May-16   \n",
              "6143        1,000+  Free       0     Mature 17+           Social     8-Jan-18   \n",
              "9617   10,000,000+  Free       0       Everyone           Arcade     2-May-16   \n",
              "2268        1,000+  Paid  $2.99            Teen          Medical    24-May-18   \n",
              "5892       10,000+  Free       0       Everyone          Finance    13-Jun-17   \n",
              "\n",
              "      Current Ver   Android Ver  \n",
              "4597       1.1.50    4.4 and up  \n",
              "4916        6.1.7    4.2 and up  \n",
              "10157         1.1    4.3 and up  \n",
              "990         1.6.1    6.0 and up  \n",
              "10399       2.0.1    4.1 and up  \n",
              "6370            9  4.0.3 and up  \n",
              "6143       3.7.17    4.1 and up  \n",
              "9617        1.0.7    2.3 and up  \n",
              "2268        3.2.0    4.1 and up  \n",
              "5892      3.0.830    4.0 and up  "
            ]
          },
          "metadata": {
            "tags": []
          },
          "execution_count": 4
        }
      ]
    },
    {
      "cell_type": "markdown",
      "metadata": {
        "id": "YBUj0XwgiH_f",
        "colab_type": "text"
      },
      "source": [
        "#### Number of Columns and Rows in Dataset"
      ]
    },
    {
      "cell_type": "code",
      "metadata": {
        "id": "1xnknc9aiH_g",
        "colab_type": "code",
        "outputId": "c7fe003e-fb67-4f14-c647-c0136eb376fa",
        "colab": {}
      },
      "source": [
        "df.shape"
      ],
      "execution_count": 0,
      "outputs": [
        {
          "output_type": "execute_result",
          "data": {
            "text/plain": [
              "(10841, 13)"
            ]
          },
          "metadata": {
            "tags": []
          },
          "execution_count": 5
        }
      ]
    },
    {
      "cell_type": "markdown",
      "metadata": {
        "id": "ejFPLc3_iH_l",
        "colab_type": "text"
      },
      "source": [
        "#### Data types of columns"
      ]
    },
    {
      "cell_type": "code",
      "metadata": {
        "id": "HvBr72griH_l",
        "colab_type": "code",
        "outputId": "25c93dd4-3660-4ab5-af01-4dc5c81c8b4a",
        "colab": {}
      },
      "source": [
        "df.dtypes"
      ],
      "execution_count": 0,
      "outputs": [
        {
          "output_type": "execute_result",
          "data": {
            "text/plain": [
              "App                object\n",
              "Category           object\n",
              "Rating            float64\n",
              "Reviews            object\n",
              "Size               object\n",
              "Installs           object\n",
              "Type               object\n",
              "Price              object\n",
              "Content Rating     object\n",
              "Genres             object\n",
              "Last Updated       object\n",
              "Current Ver        object\n",
              "Android Ver        object\n",
              "dtype: object"
            ]
          },
          "metadata": {
            "tags": []
          },
          "execution_count": 6
        }
      ]
    },
    {
      "cell_type": "markdown",
      "metadata": {
        "id": "uQJA4UT_iH_q",
        "colab_type": "text"
      },
      "source": [
        "## Data cleaning"
      ]
    },
    {
      "cell_type": "code",
      "metadata": {
        "id": "_mhcLVQjiH_r",
        "colab_type": "code",
        "outputId": "d51be059-5505-45d8-cf3c-a65a0c8d494a",
        "colab": {}
      },
      "source": [
        "df['Type'].value_counts()"
      ],
      "execution_count": 0,
      "outputs": [
        {
          "output_type": "execute_result",
          "data": {
            "text/plain": [
              "Free    10039\n",
              "Paid      800\n",
              "0           1\n",
              "Name: Type, dtype: int64"
            ]
          },
          "metadata": {
            "tags": []
          },
          "execution_count": 7
        }
      ]
    },
    {
      "cell_type": "markdown",
      "metadata": {
        "id": "egma0SfniH_t",
        "colab_type": "text"
      },
      "source": [
        "#### There should not be any application type as '0', because Application types are either 'Free' or 'Paid' only"
      ]
    },
    {
      "cell_type": "markdown",
      "metadata": {
        "id": "8la-Wlh0iH_u",
        "colab_type": "text"
      },
      "source": [
        "#### So, I have to find the row number of this Type = '0' data"
      ]
    },
    {
      "cell_type": "code",
      "metadata": {
        "id": "s12rAycUiH_u",
        "colab_type": "code",
        "outputId": "15d7b3be-f15f-458b-98f6-75be25f99cb5",
        "colab": {}
      },
      "source": [
        "df.index[df.Type == '0']"
      ],
      "execution_count": 0,
      "outputs": [
        {
          "output_type": "execute_result",
          "data": {
            "text/plain": [
              "Int64Index([10472], dtype='int64')"
            ]
          },
          "metadata": {
            "tags": []
          },
          "execution_count": 8
        }
      ]
    },
    {
      "cell_type": "markdown",
      "metadata": {
        "id": "Bp7u3PF2iH_x",
        "colab_type": "text"
      },
      "source": [
        "#### The wrong data is coming from row number : 10472\n",
        "#### So, Let's check the data around row 10472 from range : 10470 to 10475"
      ]
    },
    {
      "cell_type": "code",
      "metadata": {
        "id": "oMkDPY_niH_y",
        "colab_type": "code",
        "outputId": "757245b9-5fb2-4fd8-f6e9-3e453057de77",
        "colab": {}
      },
      "source": [
        "df[10470:10475]"
      ],
      "execution_count": 0,
      "outputs": [
        {
          "output_type": "execute_result",
          "data": {
            "text/html": [
              "<div>\n",
              "<style scoped>\n",
              "    .dataframe tbody tr th:only-of-type {\n",
              "        vertical-align: middle;\n",
              "    }\n",
              "\n",
              "    .dataframe tbody tr th {\n",
              "        vertical-align: top;\n",
              "    }\n",
              "\n",
              "    .dataframe thead th {\n",
              "        text-align: right;\n",
              "    }\n",
              "</style>\n",
              "<table border=\"1\" class=\"dataframe\">\n",
              "  <thead>\n",
              "    <tr style=\"text-align: right;\">\n",
              "      <th></th>\n",
              "      <th>App</th>\n",
              "      <th>Category</th>\n",
              "      <th>Rating</th>\n",
              "      <th>Reviews</th>\n",
              "      <th>Size</th>\n",
              "      <th>Installs</th>\n",
              "      <th>Type</th>\n",
              "      <th>Price</th>\n",
              "      <th>Content Rating</th>\n",
              "      <th>Genres</th>\n",
              "      <th>Last Updated</th>\n",
              "      <th>Current Ver</th>\n",
              "      <th>Android Ver</th>\n",
              "    </tr>\n",
              "  </thead>\n",
              "  <tbody>\n",
              "    <tr>\n",
              "      <th>10470</th>\n",
              "      <td>Jazz Wi-Fi</td>\n",
              "      <td>COMMUNICATION</td>\n",
              "      <td>3.4</td>\n",
              "      <td>49</td>\n",
              "      <td>4.0M</td>\n",
              "      <td>10,000+</td>\n",
              "      <td>Free</td>\n",
              "      <td>0</td>\n",
              "      <td>Everyone</td>\n",
              "      <td>Communication</td>\n",
              "      <td>10-Feb-17</td>\n",
              "      <td>0.1</td>\n",
              "      <td>2.3 and up</td>\n",
              "    </tr>\n",
              "    <tr>\n",
              "      <th>10471</th>\n",
              "      <td>Xposed Wi-Fi-Pwd</td>\n",
              "      <td>PERSONALIZATION</td>\n",
              "      <td>3.5</td>\n",
              "      <td>1042</td>\n",
              "      <td>404k</td>\n",
              "      <td>100,000+</td>\n",
              "      <td>Free</td>\n",
              "      <td>0</td>\n",
              "      <td>Everyone</td>\n",
              "      <td>Personalization</td>\n",
              "      <td>5-Aug-14</td>\n",
              "      <td>3.0.0</td>\n",
              "      <td>4.0.3 and up</td>\n",
              "    </tr>\n",
              "    <tr>\n",
              "      <th>10472</th>\n",
              "      <td>Life Made WI-Fi Touchscreen Photo Frame</td>\n",
              "      <td>1.9</td>\n",
              "      <td>19.0</td>\n",
              "      <td>3.0M</td>\n",
              "      <td>1,000+</td>\n",
              "      <td>Free</td>\n",
              "      <td>0</td>\n",
              "      <td>Everyone</td>\n",
              "      <td>NaN</td>\n",
              "      <td>11-Feb-18</td>\n",
              "      <td>1.0.19</td>\n",
              "      <td>4.0 and up</td>\n",
              "      <td>NaN</td>\n",
              "    </tr>\n",
              "    <tr>\n",
              "      <th>10473</th>\n",
              "      <td>osmino Wi-Fi: free WiFi</td>\n",
              "      <td>TOOLS</td>\n",
              "      <td>4.2</td>\n",
              "      <td>134203</td>\n",
              "      <td>4.1M</td>\n",
              "      <td>10,000,000+</td>\n",
              "      <td>Free</td>\n",
              "      <td>0</td>\n",
              "      <td>Everyone</td>\n",
              "      <td>Tools</td>\n",
              "      <td>7-Aug-18</td>\n",
              "      <td>6.06.14</td>\n",
              "      <td>4.4 and up</td>\n",
              "    </tr>\n",
              "    <tr>\n",
              "      <th>10474</th>\n",
              "      <td>Sat-Fi Voice</td>\n",
              "      <td>COMMUNICATION</td>\n",
              "      <td>3.4</td>\n",
              "      <td>37</td>\n",
              "      <td>14M</td>\n",
              "      <td>1,000+</td>\n",
              "      <td>Free</td>\n",
              "      <td>0</td>\n",
              "      <td>Everyone</td>\n",
              "      <td>Communication</td>\n",
              "      <td>21-Nov-14</td>\n",
              "      <td>2.2.1.5</td>\n",
              "      <td>2.2 and up</td>\n",
              "    </tr>\n",
              "  </tbody>\n",
              "</table>\n",
              "</div>"
            ],
            "text/plain": [
              "                                           App         Category  Rating  \\\n",
              "10470                               Jazz Wi-Fi    COMMUNICATION     3.4   \n",
              "10471                         Xposed Wi-Fi-Pwd  PERSONALIZATION     3.5   \n",
              "10472  Life Made WI-Fi Touchscreen Photo Frame              1.9    19.0   \n",
              "10473                  osmino Wi-Fi: free WiFi            TOOLS     4.2   \n",
              "10474                             Sat-Fi Voice    COMMUNICATION     3.4   \n",
              "\n",
              "      Reviews    Size     Installs  Type     Price Content Rating  \\\n",
              "10470      49    4.0M      10,000+  Free         0       Everyone   \n",
              "10471    1042    404k     100,000+  Free         0       Everyone   \n",
              "10472    3.0M  1,000+         Free     0  Everyone            NaN   \n",
              "10473  134203    4.1M  10,000,000+  Free         0       Everyone   \n",
              "10474      37     14M       1,000+  Free         0       Everyone   \n",
              "\n",
              "                Genres Last Updated Current Ver   Android Ver  \n",
              "10470    Communication    10-Feb-17         0.1    2.3 and up  \n",
              "10471  Personalization     5-Aug-14       3.0.0  4.0.3 and up  \n",
              "10472        11-Feb-18       1.0.19  4.0 and up           NaN  \n",
              "10473            Tools     7-Aug-18     6.06.14    4.4 and up  \n",
              "10474    Communication    21-Nov-14     2.2.1.5    2.2 and up  "
            ]
          },
          "metadata": {
            "tags": []
          },
          "execution_count": 9
        }
      ]
    },
    {
      "cell_type": "markdown",
      "metadata": {
        "id": "XNOf3rgsiH_5",
        "colab_type": "text"
      },
      "source": [
        "#### The data needs to be shifted right from column 'Category' to 'Android Version' in row 10472"
      ]
    },
    {
      "cell_type": "code",
      "metadata": {
        "id": "GLcxonNciH_6",
        "colab_type": "code",
        "outputId": "ea21b572-d55d-4e77-85dc-c89c46289988",
        "colab": {}
      },
      "source": [
        "df.iloc[10472,1:] = df.iloc[10472,1:].shift(1)\n",
        "df[10470:10475]"
      ],
      "execution_count": 0,
      "outputs": [
        {
          "output_type": "execute_result",
          "data": {
            "text/html": [
              "<div>\n",
              "<style scoped>\n",
              "    .dataframe tbody tr th:only-of-type {\n",
              "        vertical-align: middle;\n",
              "    }\n",
              "\n",
              "    .dataframe tbody tr th {\n",
              "        vertical-align: top;\n",
              "    }\n",
              "\n",
              "    .dataframe thead th {\n",
              "        text-align: right;\n",
              "    }\n",
              "</style>\n",
              "<table border=\"1\" class=\"dataframe\">\n",
              "  <thead>\n",
              "    <tr style=\"text-align: right;\">\n",
              "      <th></th>\n",
              "      <th>App</th>\n",
              "      <th>Category</th>\n",
              "      <th>Rating</th>\n",
              "      <th>Reviews</th>\n",
              "      <th>Size</th>\n",
              "      <th>Installs</th>\n",
              "      <th>Type</th>\n",
              "      <th>Price</th>\n",
              "      <th>Content Rating</th>\n",
              "      <th>Genres</th>\n",
              "      <th>Last Updated</th>\n",
              "      <th>Current Ver</th>\n",
              "      <th>Android Ver</th>\n",
              "    </tr>\n",
              "  </thead>\n",
              "  <tbody>\n",
              "    <tr>\n",
              "      <th>10470</th>\n",
              "      <td>Jazz Wi-Fi</td>\n",
              "      <td>COMMUNICATION</td>\n",
              "      <td>3.4</td>\n",
              "      <td>49</td>\n",
              "      <td>4.0M</td>\n",
              "      <td>10,000+</td>\n",
              "      <td>Free</td>\n",
              "      <td>0</td>\n",
              "      <td>Everyone</td>\n",
              "      <td>Communication</td>\n",
              "      <td>10-Feb-17</td>\n",
              "      <td>0.1</td>\n",
              "      <td>2.3 and up</td>\n",
              "    </tr>\n",
              "    <tr>\n",
              "      <th>10471</th>\n",
              "      <td>Xposed Wi-Fi-Pwd</td>\n",
              "      <td>PERSONALIZATION</td>\n",
              "      <td>3.5</td>\n",
              "      <td>1042</td>\n",
              "      <td>404k</td>\n",
              "      <td>100,000+</td>\n",
              "      <td>Free</td>\n",
              "      <td>0</td>\n",
              "      <td>Everyone</td>\n",
              "      <td>Personalization</td>\n",
              "      <td>5-Aug-14</td>\n",
              "      <td>3.0.0</td>\n",
              "      <td>4.0.3 and up</td>\n",
              "    </tr>\n",
              "    <tr>\n",
              "      <th>10472</th>\n",
              "      <td>Life Made WI-Fi Touchscreen Photo Frame</td>\n",
              "      <td>NaN</td>\n",
              "      <td>1.9</td>\n",
              "      <td>19</td>\n",
              "      <td>3.0M</td>\n",
              "      <td>1,000+</td>\n",
              "      <td>Free</td>\n",
              "      <td>0</td>\n",
              "      <td>Everyone</td>\n",
              "      <td>NaN</td>\n",
              "      <td>11-Feb-18</td>\n",
              "      <td>1.0.19</td>\n",
              "      <td>4.0 and up</td>\n",
              "    </tr>\n",
              "    <tr>\n",
              "      <th>10473</th>\n",
              "      <td>osmino Wi-Fi: free WiFi</td>\n",
              "      <td>TOOLS</td>\n",
              "      <td>4.2</td>\n",
              "      <td>134203</td>\n",
              "      <td>4.1M</td>\n",
              "      <td>10,000,000+</td>\n",
              "      <td>Free</td>\n",
              "      <td>0</td>\n",
              "      <td>Everyone</td>\n",
              "      <td>Tools</td>\n",
              "      <td>7-Aug-18</td>\n",
              "      <td>6.06.14</td>\n",
              "      <td>4.4 and up</td>\n",
              "    </tr>\n",
              "    <tr>\n",
              "      <th>10474</th>\n",
              "      <td>Sat-Fi Voice</td>\n",
              "      <td>COMMUNICATION</td>\n",
              "      <td>3.4</td>\n",
              "      <td>37</td>\n",
              "      <td>14M</td>\n",
              "      <td>1,000+</td>\n",
              "      <td>Free</td>\n",
              "      <td>0</td>\n",
              "      <td>Everyone</td>\n",
              "      <td>Communication</td>\n",
              "      <td>21-Nov-14</td>\n",
              "      <td>2.2.1.5</td>\n",
              "      <td>2.2 and up</td>\n",
              "    </tr>\n",
              "  </tbody>\n",
              "</table>\n",
              "</div>"
            ],
            "text/plain": [
              "                                           App         Category Rating  \\\n",
              "10470                               Jazz Wi-Fi    COMMUNICATION    3.4   \n",
              "10471                         Xposed Wi-Fi-Pwd  PERSONALIZATION    3.5   \n",
              "10472  Life Made WI-Fi Touchscreen Photo Frame              NaN    1.9   \n",
              "10473                  osmino Wi-Fi: free WiFi            TOOLS    4.2   \n",
              "10474                             Sat-Fi Voice    COMMUNICATION    3.4   \n",
              "\n",
              "      Reviews  Size     Installs  Type Price Content Rating           Genres  \\\n",
              "10470      49  4.0M      10,000+  Free     0       Everyone    Communication   \n",
              "10471    1042  404k     100,000+  Free     0       Everyone  Personalization   \n",
              "10472      19  3.0M       1,000+  Free     0       Everyone              NaN   \n",
              "10473  134203  4.1M  10,000,000+  Free     0       Everyone            Tools   \n",
              "10474      37   14M       1,000+  Free     0       Everyone    Communication   \n",
              "\n",
              "      Last Updated Current Ver   Android Ver  \n",
              "10470    10-Feb-17         0.1    2.3 and up  \n",
              "10471     5-Aug-14       3.0.0  4.0.3 and up  \n",
              "10472    11-Feb-18      1.0.19    4.0 and up  \n",
              "10473     7-Aug-18     6.06.14    4.4 and up  \n",
              "10474    21-Nov-14     2.2.1.5    2.2 and up  "
            ]
          },
          "metadata": {
            "tags": []
          },
          "execution_count": 10
        }
      ]
    },
    {
      "cell_type": "markdown",
      "metadata": {
        "id": "7yq3VaGaiH_-",
        "colab_type": "text"
      },
      "source": [
        "### Now, I try to convert column data types from object to numeric for columns 'Rating', 'Reviews', 'Size', 'Installs' and 'Price'"
      ]
    },
    {
      "cell_type": "code",
      "metadata": {
        "id": "MbppHNURiH__",
        "colab_type": "code",
        "colab": {}
      },
      "source": [
        "df['Rating'] = pd.to_numeric(df['Rating'])"
      ],
      "execution_count": 0,
      "outputs": []
    },
    {
      "cell_type": "code",
      "metadata": {
        "id": "w5is5V9siIAB",
        "colab_type": "code",
        "colab": {}
      },
      "source": [
        "df['Reviews'] = pd.to_numeric(df['Reviews'])"
      ],
      "execution_count": 0,
      "outputs": []
    },
    {
      "cell_type": "code",
      "metadata": {
        "id": "nCNQROTciIAF",
        "colab_type": "code",
        "outputId": "9ca2a52d-bd4b-4021-d2f9-c83e13aca68e",
        "colab": {}
      },
      "source": [
        "df['Size'] = pd.to_numeric(df['Size'])"
      ],
      "execution_count": 0,
      "outputs": [
        {
          "output_type": "error",
          "ename": "ValueError",
          "evalue": "Unable to parse string \"19M\" at position 0",
          "traceback": [
            "\u001b[1;31m---------------------------------------------------------------------------\u001b[0m",
            "\u001b[1;31mValueError\u001b[0m                                Traceback (most recent call last)",
            "\u001b[1;32mpandas/_libs/lib.pyx\u001b[0m in \u001b[0;36mpandas._libs.lib.maybe_convert_numeric\u001b[1;34m()\u001b[0m\n",
            "\u001b[1;31mValueError\u001b[0m: Unable to parse string \"19M\"",
            "\nDuring handling of the above exception, another exception occurred:\n",
            "\u001b[1;31mValueError\u001b[0m                                Traceback (most recent call last)",
            "\u001b[1;32m<ipython-input-13-4a3cb3f1ca35>\u001b[0m in \u001b[0;36m<module>\u001b[1;34m\u001b[0m\n\u001b[1;32m----> 1\u001b[1;33m \u001b[0mdf\u001b[0m\u001b[1;33m[\u001b[0m\u001b[1;34m'Size'\u001b[0m\u001b[1;33m]\u001b[0m \u001b[1;33m=\u001b[0m \u001b[0mpd\u001b[0m\u001b[1;33m.\u001b[0m\u001b[0mto_numeric\u001b[0m\u001b[1;33m(\u001b[0m\u001b[0mdf\u001b[0m\u001b[1;33m[\u001b[0m\u001b[1;34m'Size'\u001b[0m\u001b[1;33m]\u001b[0m\u001b[1;33m)\u001b[0m\u001b[1;33m\u001b[0m\u001b[1;33m\u001b[0m\u001b[0m\n\u001b[0m",
            "\u001b[1;32mC:\\ProgramData\\Anaconda3\\lib\\site-packages\\pandas\\core\\tools\\numeric.py\u001b[0m in \u001b[0;36mto_numeric\u001b[1;34m(arg, errors, downcast)\u001b[0m\n\u001b[0;32m    133\u001b[0m             \u001b[0mcoerce_numeric\u001b[0m \u001b[1;33m=\u001b[0m \u001b[1;32mFalse\u001b[0m \u001b[1;32mif\u001b[0m \u001b[0merrors\u001b[0m \u001b[1;32min\u001b[0m \u001b[1;33m(\u001b[0m\u001b[1;34m'ignore'\u001b[0m\u001b[1;33m,\u001b[0m \u001b[1;34m'raise'\u001b[0m\u001b[1;33m)\u001b[0m \u001b[1;32melse\u001b[0m \u001b[1;32mTrue\u001b[0m\u001b[1;33m\u001b[0m\u001b[1;33m\u001b[0m\u001b[0m\n\u001b[0;32m    134\u001b[0m             values = lib.maybe_convert_numeric(values, set(),\n\u001b[1;32m--> 135\u001b[1;33m                                                coerce_numeric=coerce_numeric)\n\u001b[0m\u001b[0;32m    136\u001b[0m \u001b[1;33m\u001b[0m\u001b[0m\n\u001b[0;32m    137\u001b[0m     \u001b[1;32mexcept\u001b[0m \u001b[0mException\u001b[0m\u001b[1;33m:\u001b[0m\u001b[1;33m\u001b[0m\u001b[1;33m\u001b[0m\u001b[0m\n",
            "\u001b[1;32mpandas/_libs/lib.pyx\u001b[0m in \u001b[0;36mpandas._libs.lib.maybe_convert_numeric\u001b[1;34m()\u001b[0m\n",
            "\u001b[1;31mValueError\u001b[0m: Unable to parse string \"19M\" at position 0"
          ]
        }
      ]
    },
    {
      "cell_type": "markdown",
      "metadata": {
        "id": "gRF082l_iIAJ",
        "colab_type": "text"
      },
      "source": [
        "#### There is an error showing that '19M' can't be converted into numeric value, So I should remove 'M' from every rows in column 'Size'"
      ]
    },
    {
      "cell_type": "code",
      "metadata": {
        "id": "3BIZaNuTiIAJ",
        "colab_type": "code",
        "colab": {}
      },
      "source": [
        "import numpy as np\n",
        "\n",
        "df['Size'] = df['Size'].map(lambda x: x.rstrip('M'))"
      ],
      "execution_count": 0,
      "outputs": []
    },
    {
      "cell_type": "code",
      "metadata": {
        "id": "q4Dre15iiIAM",
        "colab_type": "code",
        "outputId": "b7c40b23-06c7-40a6-dde7-3e49048de6f6",
        "colab": {}
      },
      "source": [
        "df['Size'] = pd.to_numeric(df['Size'])"
      ],
      "execution_count": 0,
      "outputs": [
        {
          "output_type": "error",
          "ename": "ValueError",
          "evalue": "Unable to parse string \"Varies with device\" at position 37",
          "traceback": [
            "\u001b[1;31m---------------------------------------------------------------------------\u001b[0m",
            "\u001b[1;31mValueError\u001b[0m                                Traceback (most recent call last)",
            "\u001b[1;32mpandas/_libs/lib.pyx\u001b[0m in \u001b[0;36mpandas._libs.lib.maybe_convert_numeric\u001b[1;34m()\u001b[0m\n",
            "\u001b[1;31mValueError\u001b[0m: Unable to parse string \"Varies with device\"",
            "\nDuring handling of the above exception, another exception occurred:\n",
            "\u001b[1;31mValueError\u001b[0m                                Traceback (most recent call last)",
            "\u001b[1;32m<ipython-input-15-4a3cb3f1ca35>\u001b[0m in \u001b[0;36m<module>\u001b[1;34m\u001b[0m\n\u001b[1;32m----> 1\u001b[1;33m \u001b[0mdf\u001b[0m\u001b[1;33m[\u001b[0m\u001b[1;34m'Size'\u001b[0m\u001b[1;33m]\u001b[0m \u001b[1;33m=\u001b[0m \u001b[0mpd\u001b[0m\u001b[1;33m.\u001b[0m\u001b[0mto_numeric\u001b[0m\u001b[1;33m(\u001b[0m\u001b[0mdf\u001b[0m\u001b[1;33m[\u001b[0m\u001b[1;34m'Size'\u001b[0m\u001b[1;33m]\u001b[0m\u001b[1;33m)\u001b[0m\u001b[1;33m\u001b[0m\u001b[1;33m\u001b[0m\u001b[0m\n\u001b[0m",
            "\u001b[1;32mC:\\ProgramData\\Anaconda3\\lib\\site-packages\\pandas\\core\\tools\\numeric.py\u001b[0m in \u001b[0;36mto_numeric\u001b[1;34m(arg, errors, downcast)\u001b[0m\n\u001b[0;32m    133\u001b[0m             \u001b[0mcoerce_numeric\u001b[0m \u001b[1;33m=\u001b[0m \u001b[1;32mFalse\u001b[0m \u001b[1;32mif\u001b[0m \u001b[0merrors\u001b[0m \u001b[1;32min\u001b[0m \u001b[1;33m(\u001b[0m\u001b[1;34m'ignore'\u001b[0m\u001b[1;33m,\u001b[0m \u001b[1;34m'raise'\u001b[0m\u001b[1;33m)\u001b[0m \u001b[1;32melse\u001b[0m \u001b[1;32mTrue\u001b[0m\u001b[1;33m\u001b[0m\u001b[1;33m\u001b[0m\u001b[0m\n\u001b[0;32m    134\u001b[0m             values = lib.maybe_convert_numeric(values, set(),\n\u001b[1;32m--> 135\u001b[1;33m                                                coerce_numeric=coerce_numeric)\n\u001b[0m\u001b[0;32m    136\u001b[0m \u001b[1;33m\u001b[0m\u001b[0m\n\u001b[0;32m    137\u001b[0m     \u001b[1;32mexcept\u001b[0m \u001b[0mException\u001b[0m\u001b[1;33m:\u001b[0m\u001b[1;33m\u001b[0m\u001b[1;33m\u001b[0m\u001b[0m\n",
            "\u001b[1;32mpandas/_libs/lib.pyx\u001b[0m in \u001b[0;36mpandas._libs.lib.maybe_convert_numeric\u001b[1;34m()\u001b[0m\n",
            "\u001b[1;31mValueError\u001b[0m: Unable to parse string \"Varies with device\" at position 37"
          ]
        }
      ]
    },
    {
      "cell_type": "markdown",
      "metadata": {
        "id": "hNjgxgI_iIAP",
        "colab_type": "text"
      },
      "source": [
        "#### There are so many values 'Varies with device' in Size columns, for that I am putting NaN values for these with Numpy"
      ]
    },
    {
      "cell_type": "code",
      "metadata": {
        "id": "Mf5157YJiIAQ",
        "colab_type": "code",
        "colab": {}
      },
      "source": [
        "df['Size'] = df['Size'].map(lambda x: np.nan if x.startswith('Varies') else x)"
      ],
      "execution_count": 0,
      "outputs": []
    },
    {
      "cell_type": "code",
      "metadata": {
        "id": "PYV05u3ziIAV",
        "colab_type": "code",
        "colab": {}
      },
      "source": [
        "df['Size'] = pd.to_numeric(df['Size'], errors='coerce')"
      ],
      "execution_count": 0,
      "outputs": []
    },
    {
      "cell_type": "markdown",
      "metadata": {
        "id": "lTpCmgeAiIAY",
        "colab_type": "text"
      },
      "source": [
        "#### Like 'Size', In 'Install' column I should remove '+' and ',' signs to make it numeric field"
      ]
    },
    {
      "cell_type": "code",
      "metadata": {
        "id": "2n8XqISkiIAZ",
        "colab_type": "code",
        "colab": {}
      },
      "source": [
        "# This is another type of replace a string with another string with using simple replace function\n",
        "\n",
        "df['Installs'] = df['Installs'].str.replace('+','')\n",
        "df['Installs'] = df['Installs'].str.replace(',','')"
      ],
      "execution_count": 0,
      "outputs": []
    },
    {
      "cell_type": "code",
      "metadata": {
        "id": "aaOz6g2UiIAb",
        "colab_type": "code",
        "colab": {}
      },
      "source": [
        "df['Installs'] = pd.to_numeric(df['Installs'])"
      ],
      "execution_count": 0,
      "outputs": []
    },
    {
      "cell_type": "markdown",
      "metadata": {
        "id": "7Fw961vviIAe",
        "colab_type": "text"
      },
      "source": [
        "#### Column 'Price' also have '$' sign in values "
      ]
    },
    {
      "cell_type": "code",
      "metadata": {
        "id": "wmytI6nniIAe",
        "colab_type": "code",
        "colab": {}
      },
      "source": [
        "df['Price'] = df['Price'].str.replace('$','')\n",
        "df['Price'] = pd.to_numeric(df['Price'])"
      ],
      "execution_count": 0,
      "outputs": []
    },
    {
      "cell_type": "markdown",
      "metadata": {
        "id": "FVtbOldGiIAh",
        "colab_type": "text"
      },
      "source": [
        "#### Now, everything looks good for plotting, some are numeric fields others are strings"
      ]
    },
    {
      "cell_type": "code",
      "metadata": {
        "id": "iyDjm-nziIAh",
        "colab_type": "code",
        "outputId": "8cc768dd-f393-4a0a-f719-af6a2814efa3",
        "colab": {}
      },
      "source": [
        "df.dtypes"
      ],
      "execution_count": 0,
      "outputs": [
        {
          "output_type": "execute_result",
          "data": {
            "text/plain": [
              "App                object\n",
              "Category           object\n",
              "Rating            float64\n",
              "Reviews           float64\n",
              "Size              float64\n",
              "Installs            int64\n",
              "Type               object\n",
              "Price             float64\n",
              "Content Rating     object\n",
              "Genres             object\n",
              "Last Updated       object\n",
              "Current Ver        object\n",
              "Android Ver        object\n",
              "dtype: object"
            ]
          },
          "metadata": {
            "tags": []
          },
          "execution_count": 21
        }
      ]
    },
    {
      "cell_type": "markdown",
      "metadata": {
        "id": "4ju0oG8hiIAm",
        "colab_type": "text"
      },
      "source": [
        "## Data Visualization"
      ]
    },
    {
      "cell_type": "markdown",
      "metadata": {
        "id": "TVqbhh9IiIAn",
        "colab_type": "text"
      },
      "source": [
        "### At first, from dataset I found that there is huge difference between total number of application by different 'Category' of apps."
      ]
    },
    {
      "cell_type": "code",
      "metadata": {
        "id": "Os33KFW0iIAo",
        "colab_type": "code",
        "outputId": "2d31e05a-2cca-48a4-e8d8-abf55543545e",
        "colab": {}
      },
      "source": [
        "df.Category.value_counts()"
      ],
      "execution_count": 0,
      "outputs": [
        {
          "output_type": "execute_result",
          "data": {
            "text/plain": [
              "FAMILY                 1972\n",
              "GAME                   1144\n",
              "TOOLS                   843\n",
              "MEDICAL                 463\n",
              "BUSINESS                460\n",
              "PRODUCTIVITY            424\n",
              "PERSONALIZATION         392\n",
              "COMMUNICATION           387\n",
              "SPORTS                  384\n",
              "LIFESTYLE               382\n",
              "FINANCE                 366\n",
              "HEALTH_AND_FITNESS      341\n",
              "PHOTOGRAPHY             335\n",
              "SOCIAL                  295\n",
              "NEWS_AND_MAGAZINES      283\n",
              "SHOPPING                260\n",
              "TRAVEL_AND_LOCAL        258\n",
              "DATING                  234\n",
              "BOOKS_AND_REFERENCE     231\n",
              "VIDEO_PLAYERS           175\n",
              "EDUCATION               156\n",
              "ENTERTAINMENT           149\n",
              "MAPS_AND_NAVIGATION     137\n",
              "FOOD_AND_DRINK          127\n",
              "HOUSE_AND_HOME           88\n",
              "AUTO_AND_VEHICLES        85\n",
              "LIBRARIES_AND_DEMO       85\n",
              "WEATHER                  82\n",
              "ART_AND_DESIGN           65\n",
              "EVENTS                   64\n",
              "PARENTING                60\n",
              "COMICS                   60\n",
              "BEAUTY                   53\n",
              "Name: Category, dtype: int64"
            ]
          },
          "metadata": {
            "tags": []
          },
          "execution_count": 22
        }
      ]
    },
    {
      "cell_type": "markdown",
      "metadata": {
        "id": "eV6kdFqaiIAq",
        "colab_type": "text"
      },
      "source": [
        "#### Most of application on Google play store are from 'Family', 'Games' and 'Tools' categories.\n",
        "#### Let's plot this categories and their count in a bar plot"
      ]
    },
    {
      "cell_type": "code",
      "metadata": {
        "id": "jp1vkESDiIAq",
        "colab_type": "code",
        "outputId": "65b9830c-48b9-4438-b70e-8593bd6e7a14",
        "colab": {}
      },
      "source": [
        "# Import seaborn and matplotlib for plotting\n",
        "\n",
        "import seaborn as sns\n",
        "import matplotlib\n",
        "import matplotlib.pyplot as plt\n",
        "matplotlib.__version__"
      ],
      "execution_count": 0,
      "outputs": [
        {
          "output_type": "execute_result",
          "data": {
            "text/plain": [
              "'3.1.0'"
            ]
          },
          "metadata": {
            "tags": []
          },
          "execution_count": 23
        }
      ]
    },
    {
      "cell_type": "code",
      "metadata": {
        "id": "TZhD4q1NiIAt",
        "colab_type": "code",
        "outputId": "4c212b84-d6cb-4859-8357-5a7011fdb48f",
        "colab": {}
      },
      "source": [
        "# Set the plot size according to data, then by seaborn I plotted countplot for Categories on Y axis with data frame df\n",
        "\n",
        "plt.figure(figsize=(20,12))\n",
        "sns.countplot(y='Category',data=df)\n",
        "plt.show()"
      ],
      "execution_count": 0,
      "outputs": [
        {
          "output_type": "display_data",
          "data": {
            "image/png": "[encoded data removed]",
            "text/plain": [
              "<Figure size 1440x864 with 1 Axes>"
            ]
          },
          "metadata": {
            "tags": [],
            "needs_background": "light"
          }
        }
      ]
    },
    {
      "cell_type": "markdown",
      "metadata": {
        "id": "95KmPNdViIAv",
        "colab_type": "text"
      },
      "source": [
        "### By digging into data set, I want to find whether people tend to have different choices for installing apps on 'Free' and 'Paid' applications ??"
      ]
    },
    {
      "cell_type": "code",
      "metadata": {
        "id": "ANnivbk5iIAv",
        "colab_type": "code",
        "outputId": "9336196a-7ecf-4791-d1ed-d90eb9d3a528",
        "colab": {}
      },
      "source": [
        "df['Type'].value_counts().plot(kind='pie', figsize=(7, 7))"
      ],
      "execution_count": 0,
      "outputs": [
        {
          "output_type": "execute_result",
          "data": {
            "text/plain": [
              "<matplotlib.axes._subplots.AxesSubplot at 0x20f4ca09390>"
            ]
          },
          "metadata": {
            "tags": []
          },
          "execution_count": 25
        },
        {
          "output_type": "display_data",
          "data": {
            "image/png": "[encoded data removed]",
            "text/plain": [
              "<Figure size 504x504 with 1 Axes>"
            ]
          },
          "metadata": {
            "tags": []
          }
        }
      ]
    },
    {
      "cell_type": "markdown",
      "metadata": {
        "id": "BdxFukGxiIA2",
        "colab_type": "text"
      },
      "source": [
        "#### There is a huge difference between number of applications that are 'Free' and 'Paid'"
      ]
    },
    {
      "cell_type": "markdown",
      "metadata": {
        "id": "eoQVOd-5iIA2",
        "colab_type": "text"
      },
      "source": [
        "#### To compare the data between these two types, I divided the data in two different data frames for Paid and Free apps"
      ]
    },
    {
      "cell_type": "code",
      "metadata": {
        "id": "gxFfxR3diIA3",
        "colab_type": "code",
        "colab": {}
      },
      "source": [
        "df_free = df[df['Type'] == 'Free']\n",
        "df_paid = df[df['Type'] == 'Paid']"
      ],
      "execution_count": 0,
      "outputs": []
    },
    {
      "cell_type": "code",
      "metadata": {
        "id": "9KkA8Y2LiIA5",
        "colab_type": "code",
        "outputId": "ff32324e-fc5c-4491-f2eb-c1ab337b467f",
        "colab": {}
      },
      "source": [
        "df_paid.sample(5)"
      ],
      "execution_count": 0,
      "outputs": [
        {
          "output_type": "execute_result",
          "data": {
            "text/html": [
              "<div>\n",
              "<style scoped>\n",
              "    .dataframe tbody tr th:only-of-type {\n",
              "        vertical-align: middle;\n",
              "    }\n",
              "\n",
              "    .dataframe tbody tr th {\n",
              "        vertical-align: top;\n",
              "    }\n",
              "\n",
              "    .dataframe thead th {\n",
              "        text-align: right;\n",
              "    }\n",
              "</style>\n",
              "<table border=\"1\" class=\"dataframe\">\n",
              "  <thead>\n",
              "    <tr style=\"text-align: right;\">\n",
              "      <th></th>\n",
              "      <th>App</th>\n",
              "      <th>Category</th>\n",
              "      <th>Rating</th>\n",
              "      <th>Reviews</th>\n",
              "      <th>Size</th>\n",
              "      <th>Installs</th>\n",
              "      <th>Type</th>\n",
              "      <th>Price</th>\n",
              "      <th>Content Rating</th>\n",
              "      <th>Genres</th>\n",
              "      <th>Last Updated</th>\n",
              "      <th>Current Ver</th>\n",
              "      <th>Android Ver</th>\n",
              "    </tr>\n",
              "  </thead>\n",
              "  <tbody>\n",
              "    <tr>\n",
              "      <th>5341</th>\n",
              "      <td>Al'Quran Bahasa Indonesia PRO</td>\n",
              "      <td>BOOKS_AND_REFERENCE</td>\n",
              "      <td>4.7</td>\n",
              "      <td>1340.0</td>\n",
              "      <td>11.0</td>\n",
              "      <td>10000</td>\n",
              "      <td>Paid</td>\n",
              "      <td>4.49</td>\n",
              "      <td>Everyone</td>\n",
              "      <td>Books &amp; Reference</td>\n",
              "      <td>16-May-18</td>\n",
              "      <td>4.0.5</td>\n",
              "      <td>2.2 and up</td>\n",
              "    </tr>\n",
              "    <tr>\n",
              "      <th>9211</th>\n",
              "      <td>RPG ブレイジング ソウルズ アクセレイト</td>\n",
              "      <td>FAMILY</td>\n",
              "      <td>3.4</td>\n",
              "      <td>159.0</td>\n",
              "      <td>3.1</td>\n",
              "      <td>1000</td>\n",
              "      <td>Paid</td>\n",
              "      <td>10.99</td>\n",
              "      <td>Teen</td>\n",
              "      <td>Role Playing</td>\n",
              "      <td>26-Apr-18</td>\n",
              "      <td>2.12</td>\n",
              "      <td>2.3 and up</td>\n",
              "    </tr>\n",
              "    <tr>\n",
              "      <th>6088</th>\n",
              "      <td>Wolf of the BF:Commando MOBILE</td>\n",
              "      <td>GAME</td>\n",
              "      <td>3.4</td>\n",
              "      <td>32.0</td>\n",
              "      <td>27.0</td>\n",
              "      <td>1000</td>\n",
              "      <td>Paid</td>\n",
              "      <td>0.99</td>\n",
              "      <td>Everyone 10+</td>\n",
              "      <td>Arcade</td>\n",
              "      <td>23-Mar-17</td>\n",
              "      <td>1.00.10</td>\n",
              "      <td>4.0 and up</td>\n",
              "    </tr>\n",
              "    <tr>\n",
              "      <th>9728</th>\n",
              "      <td>Sonic 4™ Episode I</td>\n",
              "      <td>GAME</td>\n",
              "      <td>3.7</td>\n",
              "      <td>8014.0</td>\n",
              "      <td>37.0</td>\n",
              "      <td>100000</td>\n",
              "      <td>Paid</td>\n",
              "      <td>2.99</td>\n",
              "      <td>Everyone</td>\n",
              "      <td>Arcade</td>\n",
              "      <td>4-Apr-16</td>\n",
              "      <td>1.5.0</td>\n",
              "      <td>2.2 and up</td>\n",
              "    </tr>\n",
              "    <tr>\n",
              "      <th>5812</th>\n",
              "      <td>AX Watch for WatchMaker</td>\n",
              "      <td>PERSONALIZATION</td>\n",
              "      <td>NaN</td>\n",
              "      <td>2.0</td>\n",
              "      <td>NaN</td>\n",
              "      <td>1</td>\n",
              "      <td>Paid</td>\n",
              "      <td>0.99</td>\n",
              "      <td>Everyone</td>\n",
              "      <td>Personalization</td>\n",
              "      <td>18-Aug-17</td>\n",
              "      <td>1</td>\n",
              "      <td>2.3 and up</td>\n",
              "    </tr>\n",
              "  </tbody>\n",
              "</table>\n",
              "</div>"
            ],
            "text/plain": [
              "                                 App             Category  Rating  Reviews  \\\n",
              "5341   Al'Quran Bahasa Indonesia PRO  BOOKS_AND_REFERENCE     4.7   1340.0   \n",
              "9211          RPG ブレイジング ソウルズ アクセレイト               FAMILY     3.4    159.0   \n",
              "6088  Wolf of the BF:Commando MOBILE                 GAME     3.4     32.0   \n",
              "9728              Sonic 4™ Episode I                 GAME     3.7   8014.0   \n",
              "5812         AX Watch for WatchMaker      PERSONALIZATION     NaN      2.0   \n",
              "\n",
              "      Size  Installs  Type  Price Content Rating             Genres  \\\n",
              "5341  11.0     10000  Paid   4.49       Everyone  Books & Reference   \n",
              "9211   3.1      1000  Paid  10.99           Teen       Role Playing   \n",
              "6088  27.0      1000  Paid   0.99   Everyone 10+             Arcade   \n",
              "9728  37.0    100000  Paid   2.99       Everyone             Arcade   \n",
              "5812   NaN         1  Paid   0.99       Everyone    Personalization   \n",
              "\n",
              "     Last Updated Current Ver Android Ver  \n",
              "5341    16-May-18       4.0.5  2.2 and up  \n",
              "9211    26-Apr-18        2.12  2.3 and up  \n",
              "6088    23-Mar-17     1.00.10  4.0 and up  \n",
              "9728     4-Apr-16       1.5.0  2.2 and up  \n",
              "5812    18-Aug-17           1  2.3 and up  "
            ]
          },
          "metadata": {
            "tags": []
          },
          "execution_count": 27
        }
      ]
    },
    {
      "cell_type": "markdown",
      "metadata": {
        "id": "fuv3BTsliIA8",
        "colab_type": "text"
      },
      "source": [
        "#### Plotting a bar chart with Y axis as data frame Category and X-axis as number of installs for Free application data frame"
      ]
    },
    {
      "cell_type": "code",
      "metadata": {
        "id": "iRON1fl5iIA8",
        "colab_type": "code",
        "outputId": "a698b11a-1824-4f43-8b5d-53fc746b72cf",
        "colab": {}
      },
      "source": [
        "plt.figure(figsize=(20, 15))\n",
        "sns.barplot(y = df[\"Category\"], x = df_free[\"Installs\"], ci = None, saturation=1, palette = \"GnBu_d\")\n",
        "plt.show()"
      ],
      "execution_count": 0,
      "outputs": [
        {
          "output_type": "display_data",
          "data": {
            "image/png": "[encoded data removed]",
            "text/plain": [
              "<Figure size 1440x1080 with 1 Axes>"
            ]
          },
          "metadata": {
            "tags": [],
            "needs_background": "light"
          }
        }
      ]
    },
    {
      "cell_type": "markdown",
      "metadata": {
        "id": "mSyBbgFPiIBA",
        "colab_type": "text"
      },
      "source": [
        "#### People installed Communicational, Social, Gaming etc categorical apps more often for Free applications."
      ]
    },
    {
      "cell_type": "code",
      "metadata": {
        "id": "EcSvSgvAiIBA",
        "colab_type": "code",
        "colab": {}
      },
      "source": [
        ""
      ],
      "execution_count": 0,
      "outputs": []
    },
    {
      "cell_type": "markdown",
      "metadata": {
        "id": "uwffosgbiIBC",
        "colab_type": "text"
      },
      "source": [
        "#### Plotting a bar chart with Y axis as data frame Category and X-axis as number of installs for Paid application data frame"
      ]
    },
    {
      "cell_type": "code",
      "metadata": {
        "id": "0iYw_7csiIBC",
        "colab_type": "code",
        "outputId": "6476bb79-2305-415f-aa46-98939bddc32b",
        "colab": {}
      },
      "source": [
        "plt.figure(figsize=(20, 15))\n",
        "sns.barplot(y = df[\"Category\"], x = df_paid[\"Installs\"], ci = None, saturation=1, palette = \"BuGn_d\")\n",
        "plt.show()"
      ],
      "execution_count": 0,
      "outputs": [
        {
          "output_type": "display_data",
          "data": {
            "image/png": "[encoded data removed]",
            "text/plain": [
              "<Figure size 1440x1080 with 1 Axes>"
            ]
          },
          "metadata": {
            "tags": [],
            "needs_background": "light"
          }
        }
      ]
    },
    {
      "cell_type": "markdown",
      "metadata": {
        "id": "pR8TU5sKiIBE",
        "colab_type": "text"
      },
      "source": [
        "#### People installed Gaming, Photography, Family, Educational etc categorical apps more often for Paid applications."
      ]
    },
    {
      "cell_type": "markdown",
      "metadata": {
        "id": "5RrJpiwRiIBF",
        "colab_type": "text"
      },
      "source": [
        "#### This information can be very helpful for application development firms to choose on which categorical application they should focus more to achive market gain."
      ]
    },
    {
      "cell_type": "code",
      "metadata": {
        "id": "WKmem_sziIBG",
        "colab_type": "code",
        "colab": {}
      },
      "source": [
        ""
      ],
      "execution_count": 0,
      "outputs": []
    },
    {
      "cell_type": "code",
      "metadata": {
        "id": "KnUBrAUtiIBI",
        "colab_type": "code",
        "colab": {}
      },
      "source": [
        ""
      ],
      "execution_count": 0,
      "outputs": []
    }
  ]
}